{
 "cells": [
  {
   "cell_type": "markdown",
   "id": "954c56d2",
   "metadata": {},
   "source": [
    "# Clustering Algorithms with Python\n"
   ]
  },
  {
   "cell_type": "markdown",
   "id": "098490df",
   "metadata": {},
   "source": [
    "* KMeans\n",
    "* MiniBatchKMeans\n",
    "* Agglomerative Clustering (Hierarchical clustering)\n",
    "* AffinityPropagation\n",
    "* Mean Shift\n",
    "* Spectral clustering\n",
    "* DBSCAN\n",
    "* BIRCH\n",
    "* Gaussian Mixture Models\n",
    "* Louvain Method of community detection"
   ]
  },
  {
   "cell_type": "code",
   "execution_count": null,
   "id": "c38866c9",
   "metadata": {},
   "outputs": [],
   "source": []
  }
 ],
 "metadata": {
  "kernelspec": {
   "display_name": "Python 3",
   "language": "python",
   "name": "python3"
  },
  "language_info": {
   "codemirror_mode": {
    "name": "ipython",
    "version": 3
   },
   "file_extension": ".py",
   "mimetype": "text/x-python",
   "name": "python",
   "nbconvert_exporter": "python",
   "pygments_lexer": "ipython3",
   "version": "3.8.3"
  }
 },
 "nbformat": 4,
 "nbformat_minor": 5
}
